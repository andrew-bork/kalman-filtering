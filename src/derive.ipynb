{
 "cells": [
  {
   "cell_type": "markdown",
   "metadata": {},
   "source": [
    "## Constant Acceleration Model"
   ]
  },
  {
   "cell_type": "code",
   "execution_count": 39,
   "metadata": {},
   "outputs": [
    {
     "data": {
      "text/latex": [
       "$\\displaystyle \\left[\\begin{matrix}1 & 0 & \\Delta t \\left(0.5 \\Delta t a + v\\right) \\cos{\\left(\\theta \\right)} & \\Delta t \\sin{\\left(\\theta \\right)} & 0.5 \\Delta t^{2} \\sin{\\left(\\theta \\right)} & 0\\\\0 & 1 & - \\Delta t \\left(0.5 \\Delta t a + v\\right) \\sin{\\left(\\theta \\right)} & \\Delta t \\cos{\\left(\\theta \\right)} & 0.5 \\Delta t^{2} \\cos{\\left(\\theta \\right)} & 0\\\\0 & 0 & 1 & 0 & 0 & \\Delta t\\\\0 & 0 & 0 & 1 & \\Delta t & 0\\\\0 & 0 & 0 & 0 & 1 & 0\\\\0 & 0 & 0 & \\frac{1}{R} & \\frac{0.5 \\Delta t}{R} & 0\\end{matrix}\\right]$"
      ],
      "text/plain": [
       "⎡                                                                          2   ↪\n",
       "⎢1  0  \\Delta t⋅(0.5⋅\\Delta t⋅a + v)⋅cos(θ)   \\Delta t⋅sin(θ)  0.5⋅\\Delta t ⋅s ↪\n",
       "⎢                                                                              ↪\n",
       "⎢                                                                          2   ↪\n",
       "⎢0  1  -\\Delta t⋅(0.5⋅\\Delta t⋅a + v)⋅sin(θ)  \\Delta t⋅cos(θ)  0.5⋅\\Delta t ⋅c ↪\n",
       "⎢                                                                              ↪\n",
       "⎢0  0                    1                           0                  0      ↪\n",
       "⎢                                                                              ↪\n",
       "⎢0  0                    0                           1               \\Delta t  ↪\n",
       "⎢                                                                              ↪\n",
       "⎢0  0                    0                           0                  1      ↪\n",
       "⎢                                                                              ↪\n",
       "⎢                                                    1             0.5⋅\\Delta  ↪\n",
       "⎢0  0                    0                           ─             ─────────── ↪\n",
       "⎣                                                    R                  R      ↪\n",
       "\n",
       "↪                ⎤\n",
       "↪ in(θ)     0    ⎥\n",
       "↪                ⎥\n",
       "↪                ⎥\n",
       "↪ os(θ)     0    ⎥\n",
       "↪                ⎥\n",
       "↪        \\Delta t⎥\n",
       "↪                ⎥\n",
       "↪           0    ⎥\n",
       "↪                ⎥\n",
       "↪           0    ⎥\n",
       "↪                ⎥\n",
       "↪ t              ⎥\n",
       "↪ ─         0    ⎥\n",
       "↪                ⎦"
      ]
     },
     "execution_count": 39,
     "metadata": {},
     "output_type": "execute_result"
    }
   ],
   "source": [
    "\n",
    "import sympy\n",
    "from sympy.abc import alpha, x, y, v, w, R, theta\n",
    "from sympy import symbols, Matrix\n",
    "sympy.init_printing(use_latex=\"mathjax\", fontsize='16pt')\n",
    "dt = sympy.Symbol('\\Delta t')\n",
    "R = symbols(\"R\")\n",
    "d = v*dt\n",
    "a = symbols(\"a\")\n",
    "alpha = (v + 0.5 * a * dt) * dt / R\n",
    "omega = symbols(\"\\Omega\")\n",
    "# r = w/sympy.tan(alpha)\n",
    "\n",
    "fxu = Matrix([[x + (v + 0.5 * a * dt)*sympy.sin(theta) * dt],\n",
    "              [y + (v + 0.5 * a * dt)*sympy.cos(theta) * dt],\n",
    "              [theta+omega*dt],\n",
    "              [v + a * dt],\n",
    "              [a],\n",
    "              [(v + 0.5 * a * dt) / R]])\n",
    "# fxu = Matrix([[x + v*sympy.sin(theta+alpha) * dt],\n",
    "#               [y + v*sympy.cos(theta+alpha) * dt],\n",
    "#               [theta+alpha]])\n",
    "F = fxu.jacobian(Matrix([x, y, theta, v, a, omega]))\n",
    "F\n",
    "\n"
   ]
  },
  {
   "cell_type": "code",
   "execution_count": 25,
   "metadata": {},
   "outputs": [
    {
     "data": {
      "text/latex": [
       "$\\displaystyle \\left[\\begin{matrix}\\Delta t \\sin{\\left(\\theta \\right)} & 0\\\\\\Delta t \\cos{\\left(\\theta \\right)} & 0\\\\\\frac{\\Delta t}{R} & - \\frac{\\Delta t \\left(0.5 \\Delta t a + v\\right)}{R^{2}}\\\\1 & 0\\\\0 & 0\\end{matrix}\\right]$"
      ],
      "text/plain": [
       "⎡\\Delta t⋅sin(θ)                 0               ⎤\n",
       "⎢                                                ⎥\n",
       "⎢\\Delta t⋅cos(θ)                 0               ⎥\n",
       "⎢                                                ⎥\n",
       "⎢   \\Delta t      -\\Delta t⋅(0.5⋅\\Delta t⋅a + v) ⎥\n",
       "⎢   ────────      ───────────────────────────────⎥\n",
       "⎢      R                         2               ⎥\n",
       "⎢                               R                ⎥\n",
       "⎢                                                ⎥\n",
       "⎢       1                        0               ⎥\n",
       "⎢                                                ⎥\n",
       "⎣       0                        0               ⎦"
      ]
     },
     "execution_count": 25,
     "metadata": {},
     "output_type": "execute_result"
    }
   ],
   "source": [
    "V = fxu.jacobian(Matrix([v, R]))\n",
    "V"
   ]
  },
  {
   "cell_type": "markdown",
   "metadata": {},
   "source": [
    "## Stationary Model"
   ]
  },
  {
   "cell_type": "code",
   "execution_count": 34,
   "metadata": {},
   "outputs": [
    {
     "data": {
      "text/latex": [
       "$\\displaystyle \\left[\\begin{matrix}1 & 0 & 0 & 0 & 0\\\\0 & 1 & 0 & 0 & 0\\\\0 & 0 & 1 & 0 & 0\\\\0 & 0 & 0 & 1 & \\Delta t\\\\0 & 0 & 0 & 0 & 1\\end{matrix}\\right]$"
      ],
      "text/plain": [
       "⎡1  0  0  0     0    ⎤\n",
       "⎢                    ⎥\n",
       "⎢0  1  0  0     0    ⎥\n",
       "⎢                    ⎥\n",
       "⎢0  0  1  0     0    ⎥\n",
       "⎢                    ⎥\n",
       "⎢0  0  0  1  \\Delta t⎥\n",
       "⎢                    ⎥\n",
       "⎣0  0  0  0     1    ⎦"
      ]
     },
     "execution_count": 34,
     "metadata": {},
     "output_type": "execute_result"
    }
   ],
   "source": [
    "fxu = Matrix([[x],\n",
    "              [y],\n",
    "              [theta],\n",
    "              [v + dt*a],\n",
    "              [a]])\n",
    "# fxu = Matrix([[x + v*sympy.sin(theta+alpha) * dt],\n",
    "#               [y + v*sympy.cos(theta+alpha) * dt],\n",
    "#               [theta+alpha]])\n",
    "F = fxu.jacobian(Matrix([x, y, theta, v, a]))\n",
    "F"
   ]
  },
  {
   "cell_type": "code",
   "execution_count": 32,
   "metadata": {},
   "outputs": [
    {
     "data": {
      "text/latex": [
       "$\\displaystyle \\left[\\begin{matrix}0 & 0\\\\0 & 0\\\\0 & 0\\\\1 & 0\\\\0 & 0\\end{matrix}\\right]$"
      ],
      "text/plain": [
       "⎡0  0⎤\n",
       "⎢    ⎥\n",
       "⎢0  0⎥\n",
       "⎢    ⎥\n",
       "⎢0  0⎥\n",
       "⎢    ⎥\n",
       "⎢1  0⎥\n",
       "⎢    ⎥\n",
       "⎣0  0⎦"
      ]
     },
     "execution_count": 32,
     "metadata": {},
     "output_type": "execute_result"
    }
   ],
   "source": [
    "V = fxu.jacobian(Matrix([v, R]))\n",
    "V"
   ]
  },
  {
   "cell_type": "markdown",
   "metadata": {},
   "source": [
    "## Constant Velocity model"
   ]
  },
  {
   "cell_type": "code",
   "execution_count": 35,
   "metadata": {},
   "outputs": [
    {
     "data": {
      "text/latex": [
       "$\\displaystyle \\left[\\begin{matrix}1 & 0 & \\Delta t v \\cos{\\left(\\theta \\right)} & \\Delta t \\sin{\\left(\\theta \\right)} & 0\\\\0 & 1 & - \\Delta t v \\sin{\\left(\\theta \\right)} & \\Delta t \\cos{\\left(\\theta \\right)} & 0\\\\0 & 0 & 1 & \\frac{\\Delta t}{R} & 0\\\\0 & 0 & 0 & 1 & 0\\\\0 & 0 & 0 & 0 & 1\\end{matrix}\\right]$"
      ],
      "text/plain": [
       "⎡1  0  \\Delta t⋅v⋅cos(θ)   \\Delta t⋅sin(θ)  0⎤\n",
       "⎢                                            ⎥\n",
       "⎢0  1  -\\Delta t⋅v⋅sin(θ)  \\Delta t⋅cos(θ)  0⎥\n",
       "⎢                                            ⎥\n",
       "⎢                             \\Delta t       ⎥\n",
       "⎢0  0          1              ────────      0⎥\n",
       "⎢                                R           ⎥\n",
       "⎢                                            ⎥\n",
       "⎢0  0          0                  1         0⎥\n",
       "⎢                                            ⎥\n",
       "⎣0  0          0                  0         1⎦"
      ]
     },
     "execution_count": 35,
     "metadata": {},
     "output_type": "execute_result"
    }
   ],
   "source": [
    "fxu = Matrix([[x + v * sympy.sin(theta) * dt],\n",
    "              [y + v * sympy.cos(theta) * dt],\n",
    "              [theta + v * dt / R],\n",
    "              [v],\n",
    "              [a]])\n",
    "# fxu = Matrix([[x + v*sympy.sin(theta+alpha) * dt],\n",
    "#               [y + v*sympy.cos(theta+alpha) * dt],\n",
    "#               [theta+alpha]])\n",
    "F = fxu.jacobian(Matrix([x, y, theta, v, a]))\n",
    "F"
   ]
  },
  {
   "cell_type": "code",
   "execution_count": 36,
   "metadata": {},
   "outputs": [
    {
     "data": {
      "text/latex": [
       "$\\displaystyle \\left[\\begin{matrix}\\Delta t \\sin{\\left(\\theta \\right)} & 0\\\\\\Delta t \\cos{\\left(\\theta \\right)} & 0\\\\\\frac{\\Delta t}{R} & - \\frac{\\Delta t v}{R^{2}}\\\\1 & 0\\\\0 & 0\\end{matrix}\\right]$"
      ],
      "text/plain": [
       "⎡\\Delta t⋅sin(θ)       0      ⎤\n",
       "⎢                             ⎥\n",
       "⎢\\Delta t⋅cos(θ)       0      ⎥\n",
       "⎢                             ⎥\n",
       "⎢   \\Delta t      -\\Delta t⋅v ⎥\n",
       "⎢   ────────      ────────────⎥\n",
       "⎢      R                2     ⎥\n",
       "⎢                      R      ⎥\n",
       "⎢                             ⎥\n",
       "⎢       1              0      ⎥\n",
       "⎢                             ⎥\n",
       "⎣       0              0      ⎦"
      ]
     },
     "execution_count": 36,
     "metadata": {},
     "output_type": "execute_result"
    }
   ],
   "source": [
    "V = fxu.jacobian(Matrix([v, R]))\n",
    "V\n"
   ]
  },
  {
   "cell_type": "markdown",
   "metadata": {},
   "source": [
    "## Accelerometer Measurement Model\n"
   ]
  },
  {
   "cell_type": "code",
   "execution_count": null,
   "metadata": {},
   "outputs": [],
   "source": [
    "a_t, a_c = symbols(\"a_t, a_c\")\n",
    "H = Matrix([\n",
    "    []\n",
    "])"
   ]
  },
  {
   "cell_type": "markdown",
   "metadata": {},
   "source": [
    "## Predict Acceleration and Gyrorate Model"
   ]
  },
  {
   "cell_type": "code",
   "execution_count": 43,
   "metadata": {},
   "outputs": [
    {
     "data": {
      "text/latex": [
       "$\\displaystyle \\left[\\begin{matrix}1 & 0 & \\Delta t \\left(0.5 \\Delta t a + v\\right) \\cos{\\left(\\Delta t \\omega + \\theta \\right)} & \\Delta t \\sin{\\left(\\Delta t \\omega + \\theta \\right)}\\\\0 & 1 & - \\Delta t \\left(0.5 \\Delta t a + v\\right) \\sin{\\left(\\Delta t \\omega + \\theta \\right)} & \\Delta t \\cos{\\left(\\Delta t \\omega + \\theta \\right)}\\\\0 & 0 & 1 & 0\\\\0 & 0 & 0 & 1\\end{matrix}\\right]$"
      ],
      "text/plain": [
       "⎡1  0  \\Delta t⋅(0.5⋅\\Delta t⋅a + v)⋅cos(\\Delta t⋅\\omega + θ)   \\Delta t⋅sin(\\ ↪\n",
       "⎢                                                                              ↪\n",
       "⎢0  1  -\\Delta t⋅(0.5⋅\\Delta t⋅a + v)⋅sin(\\Delta t⋅\\omega + θ)  \\Delta t⋅cos(\\ ↪\n",
       "⎢                                                                              ↪\n",
       "⎢0  0                             1                                            ↪\n",
       "⎢                                                                              ↪\n",
       "⎣0  0                             0                                            ↪\n",
       "\n",
       "↪ Delta t⋅\\omega + θ)⎤\n",
       "↪                    ⎥\n",
       "↪ Delta t⋅\\omega + θ)⎥\n",
       "↪                    ⎥\n",
       "↪   0                ⎥\n",
       "↪                    ⎥\n",
       "↪   1                ⎦"
      ]
     },
     "execution_count": 43,
     "metadata": {},
     "output_type": "execute_result"
    }
   ],
   "source": [
    "\n",
    "sympy.init_printing(use_latex=\"mathjax\", fontsize='16pt')\n",
    "dt = sympy.Symbol('\\Delta t')\n",
    "R = symbols(\"R\")\n",
    "d = v*dt\n",
    "a = symbols(\"a\")\n",
    "alpha = (v + 0.5 * a * dt) * dt / R\n",
    "omega = symbols(\"\\omega\")\n",
    "# r = w/sympy.tan(alpha)\n",
    "\n",
    "fxu = Matrix([\n",
    "                [x + (v + 0.5 * a * dt)*sympy.sin(theta+omega*dt) * dt],\n",
    "                [y + (v + 0.5 * a * dt)*sympy.cos(theta+omega*dt) * dt],\n",
    "                [theta+omega*dt],\n",
    "                [v + a * dt]\n",
    "            ])\n",
    "# fxu = Matrix([[x + v*sympy.sin(theta+alpha) * dt],\n",
    "#               [y + v*sympy.cos(theta+alpha) * dt],\n",
    "#               [theta+alpha]])\n",
    "F = fxu.jacobian(Matrix([x, y, theta, v]))\n",
    "F\n"
   ]
  },
  {
   "cell_type": "code",
   "execution_count": 44,
   "metadata": {},
   "outputs": [
    {
     "data": {
      "text/latex": [
       "$\\displaystyle \\left[\\begin{matrix}0.5 \\Delta t^{2} \\sin{\\left(\\Delta t \\omega + \\theta \\right)} & \\Delta t^{2} \\left(0.5 \\Delta t a + v\\right) \\cos{\\left(\\Delta t \\omega + \\theta \\right)}\\\\0.5 \\Delta t^{2} \\cos{\\left(\\Delta t \\omega + \\theta \\right)} & - \\Delta t^{2} \\left(0.5 \\Delta t a + v\\right) \\sin{\\left(\\Delta t \\omega + \\theta \\right)}\\\\0 & \\Delta t\\\\\\Delta t & 0\\end{matrix}\\right]$"
      ],
      "text/plain": [
       "⎡            2                                   2                             ↪\n",
       "⎢0.5⋅\\Delta t ⋅sin(\\Delta t⋅\\omega + θ)  \\Delta t ⋅(0.5⋅\\Delta t⋅a + v)⋅cos(\\D ↪\n",
       "⎢                                                                              ↪\n",
       "⎢            2                                    2                            ↪\n",
       "⎢0.5⋅\\Delta t ⋅cos(\\Delta t⋅\\omega + θ)  -\\Delta t ⋅(0.5⋅\\Delta t⋅a + v)⋅sin(\\ ↪\n",
       "⎢                                                                              ↪\n",
       "⎢                  0                                             \\Delta t      ↪\n",
       "⎢                                                                              ↪\n",
       "⎣               \\Delta t                                            0          ↪\n",
       "\n",
       "↪                    ⎤\n",
       "↪ elta t⋅\\omega + θ) ⎥\n",
       "↪                    ⎥\n",
       "↪                    ⎥\n",
       "↪ Delta t⋅\\omega + θ)⎥\n",
       "↪                    ⎥\n",
       "↪                    ⎥\n",
       "↪                    ⎥\n",
       "↪                    ⎦"
      ]
     },
     "execution_count": 44,
     "metadata": {},
     "output_type": "execute_result"
    }
   ],
   "source": [
    "V = fxu.jacobian(Matrix([a, omega]))\n",
    "V"
   ]
  }
 ],
 "metadata": {
  "kernelspec": {
   "display_name": "Python 3",
   "language": "python",
   "name": "python3"
  },
  "language_info": {
   "codemirror_mode": {
    "name": "ipython",
    "version": 3
   },
   "file_extension": ".py",
   "mimetype": "text/x-python",
   "name": "python",
   "nbconvert_exporter": "python",
   "pygments_lexer": "ipython3",
   "version": "3.11.4"
  }
 },
 "nbformat": 4,
 "nbformat_minor": 2
}
